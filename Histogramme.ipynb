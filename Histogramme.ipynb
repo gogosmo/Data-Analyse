{
 "cells": [
  {
   "cell_type": "markdown",
   "id": "39e234bf-c038-4bd3-93a3-302bd8debf92",
   "metadata": {},
   "source": [
    "# Exercices d'application Numpy\n",
    "**Utilisation standard de numpy**\n",
    "\n",
    "Créer une fonction dummy qui :\n",
    "\n",
    "prend en argument un entier positif non nul N ( assert pour le vérifier) retourne un tableau avec 1 axe et deux éléments. \n",
    "\n",
    "Le 1er contient la somme des N premiers nombres paires, l'autre les N premiers nombres impaires.\n",
    "\n",
    "La solution ne doit contenir **aucune boucle** et **aucun appel de fonctions non issues de numpy**. \n",
    "\n",
    "Faire deux implémentations :\n",
    "- une générant un tableau de taille N \n",
    "- l'autre de taille N*2"
   ]
  },
  {
   "cell_type": "code",
   "execution_count": 1,
   "id": "756222b5-e814-45b1-9a16-4e6d48eea5b5",
   "metadata": {},
   "outputs": [],
   "source": [
    "import numpy as np \n",
    "\n",
    "# numpy.arange(start, stop, step)\n",
    "\n",
    "def dummy(N):\n",
    "    # Vérification de l'argument N\n",
    "    assert N > 0, \"N doit être un entier positif non nul\"\n",
    "    \n",
    "    # Générer un tableau de N premiers nombres pairs\n",
    "    nombres_pairs = np.arange(2, 2*N+1, step=2)\n",
    "    \n",
    "    # Générer un tableau de N premiers nombres impairs\n",
    "    nombres_impairs = np.arange(1, 2*N, step=2)\n",
    "    \n",
    "    # Calculer la somme des nombres pairs\n",
    "    somme_pairs = np.sum(nombres_pairs)\n",
    "    \n",
    "    # Calculer la somme des nombres impairs\n",
    "    somme_impairs = np.sum(nombres_impairs)\n",
    "    \n",
    "    # Retourner un tableau avec les sommes\n",
    "    return np.array([somme_pairs, somme_impairs])\n",
    "    "
   ]
  },
  {
   "cell_type": "code",
   "execution_count": 2,
   "id": "a7c6883a-8323-46db-a46e-b387bf9dd6a5",
   "metadata": {},
   "outputs": [
    {
     "name": "stdout",
     "output_type": "stream",
     "text": [
      "Somme des N premiers nombres pairs: 30\n",
      "Somme des N premiers nombres impairs: 25\n"
     ]
    }
   ],
   "source": [
    "# Exemple d'utilisation\n",
    "N = 5\n",
    "resultat = dummy(N)\n",
    "print(\"Somme des N premiers nombres pairs:\", resultat[0])\n",
    "print(\"Somme des N premiers nombres impairs:\", resultat[1])"
   ]
  },
  {
   "cell_type": "markdown",
   "id": "a07c65f6-e1df-4362-a52d-63d7e3cf04c1",
   "metadata": {},
   "source": [
    "# Calcul d'un histogramme\n",
    "\n",
    "Écrire une fonction simplifiée de calcul d'histogrammes. Voici un exemple d'utilisation :\n"
   ]
  },
  {
   "cell_type": "code",
   "execution_count": 4,
   "id": "55d4a63e-6ae8-4753-9c7c-91dade0a1986",
   "metadata": {},
   "outputs": [],
   "source": [
    "def simple_histogram(data, bins):\n",
    "    \"\"\"\n",
    "    Calcule un histogramme de données.\n",
    "\n",
    "    Args:\n",
    "    data (array-like): Les données à utiliser pour calculer l'histogramme.\n",
    "    bins (int or array-like): Soit le nombre de bins à utiliser, soit une séquence de bins personnalisés.\n",
    "\n",
    "    Returns:\n",
    "    hist (numpy.ndarray): Les fréquences de chaque bin.\n",
    "    edges (numpy.ndarray): Les limites des bins.\n",
    "    \"\"\"\n",
    "    hist, edges = np.histogram(data, bins)\n",
    "    return hist, edges"
   ]
  },
  {
   "cell_type": "code",
   "execution_count": 11,
   "id": "38f60e65-8487-4874-88ea-50e3785b61fa",
   "metadata": {},
   "outputs": [
    {
     "name": "stdout",
     "output_type": "stream",
     "text": [
      "Histogramme: [1 2 3 2 1]\n",
      "Limites des bins: [1.  1.8 2.6 3.4 4.2 5. ]\n"
     ]
    }
   ],
   "source": [
    "# Exemple d'utilisation\n",
    "data = np.array([1, 2, 2, 3, 3, 3, 4, 4, 5])\n",
    "bins = 5  # Nombre de bins\n",
    "hist, edges = simple_histogram(data, bins)\n",
    "\n",
    "# Affichage de l'histogramme\n",
    "print(\"Histogramme:\", hist)\n",
    "print(\"Limites des bins:\", edges)"
   ]
  },
  {
   "cell_type": "markdown",
   "id": "261a2822-aed4-47fc-9f08-12dcc92acd7d",
   "metadata": {},
   "source": [
    "# Histograme \n",
    "\n"
   ]
  },
  {
   "cell_type": "code",
   "execution_count": 14,
   "id": "85116d19-f7fa-40e5-908a-fc3e5df9666f",
   "metadata": {},
   "outputs": [],
   "source": [
    "import matplotlib.pyplot as plt"
   ]
  },
  {
   "cell_type": "code",
   "execution_count": 20,
   "id": "76155702-5bcd-4923-b822-536cce8ff7d5",
   "metadata": {},
   "outputs": [
    {
     "data": {
      "image/png": "[encoded data removed]",
      "text/plain": [
       "<Figure size 640x480 with 1 Axes>"
      ]
     },
     "metadata": {},
     "output_type": "display_data"
    }
   ],
   "source": [
    "rng = np.random.RandomState(10)  # deterministic random data\n",
    "\n",
    "a = np.hstack((rng.normal(size=1000), rng.normal(loc=5, scale=2, size=1000)))\n",
    "\n",
    "_ = plt.hist(a, bins='auto')  # arguments are passed to np.histogram\n",
    "\n",
    "plt.title(\"Histogram with 'auto' bins\")\n",
    "\n",
    "\n",
    "plt.show()"
   ]
  },
  {
   "cell_type": "code",
   "execution_count": null,
   "id": "2ad8d007-8cbc-4834-918c-319bab2df34d",
   "metadata": {},
   "outputs": [],
   "source": []
  }
 ],
 "metadata": {
  "kernelspec": {
   "display_name": "Python 3 (ipykernel)",
   "language": "python",
   "name": "python3"
  },
  "language_info": {
   "codemirror_mode": {
    "name": "ipython",
    "version": 3
   },
   "file_extension": ".py",
   "mimetype": "text/x-python",
   "name": "python",
   "nbconvert_exporter": "python",
   "pygments_lexer": "ipython3",
   "version": "3.10.13"
  }
 },
 "nbformat": 4,
 "nbformat_minor": 5
}
