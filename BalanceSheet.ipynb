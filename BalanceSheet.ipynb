{
 "cells": [
  {
   "cell_type": "code",
   "execution_count": 7,
   "id": "292b8453-bfdc-43b1-b284-f62330c9782e",
   "metadata": {},
   "outputs": [
    {
     "name": "stdout",
     "output_type": "stream",
     "text": [
      "                           Poste                Classe  Compte  Montant €\n",
      "0                     Trésorerie       Actifs Courants     512     100000\n",
      "1                Comptes Clients       Actifs Courants     411      50000\n",
      "2                         Stocks       Actifs Courants      31      75000\n",
      "3    Immobilisations Corporelles   Actifs Non Courants      21     600000\n",
      "4  Immobilisations Incorporelles   Actifs Non Courants      20     200000\n",
      "5           Dettes à Court Terme      Passifs Courants      42      90000\n",
      "6                   Fournisseurs      Passifs Courants     401      60000\n",
      "7          Emprunts à Long Terme  Passifs Non Courants      16     300000\n",
      "8               Capitaux Propres      Capitaux Propres     100    4000000\n"
     ]
    }
   ],
   "source": [
    "import pandas as pd\n",
    "\n",
    "# Création d'un DataFrame\n",
    "data = {'Poste': ['Trésorerie', 'Comptes Clients', 'Stocks', 'Immobilisations Corporelles', 'Immobilisations Incorporelles', 'Dettes à Court Terme', 'Fournisseurs', 'Emprunts à Long Terme', 'Capitaux Propres'],\n",
    "        'Classe': ['Actifs Courants', 'Actifs Courants', 'Actifs Courants', 'Actifs Non Courants', 'Actifs Non Courants', 'Passifs Courants', 'Passifs Courants', 'Passifs Non Courants', 'Capitaux Propres'],\n",
    "        'Compte': [512, 411, 31, 21, 20, 42, 401, 16, 100],\n",
    "        'Montant €': [100000, 50000, 75000, 600000, 200000, 90000, 60000, 300000, 4000000]}\n",
    "\n",
    "df = pd.DataFrame(data)\n",
    "\n",
    "# Affichage du DataFrame\n",
    "print(df)\n",
    "\n"
   ]
  },
  {
   "cell_type": "code",
   "execution_count": 10,
   "id": "6ef63b31-887a-4597-93f6-b2ec85977d23",
   "metadata": {},
   "outputs": [
    {
     "name": "stdout",
     "output_type": "stream",
     "text": [
      "Entreprise avec le ratio d'endettement le plus élevé:\n",
      "                           Poste  Ratio d'Endettement\n",
      "0                     Trésorerie             0.439024\n",
      "1                Comptes Clients             0.439024\n",
      "2                         Stocks             0.439024\n",
      "3    Immobilisations Corporelles             0.439024\n",
      "4  Immobilisations Incorporelles             0.439024\n",
      "5           Dettes à Court Terme             0.439024\n",
      "6                   Fournisseurs             0.439024\n",
      "7          Emprunts à Long Terme             0.439024\n",
      "8               Capitaux Propres             0.439024\n",
      "Moyenne des actifs totaux pour l'ensemble des entreprises: 1025000.00 euros\n",
      "Classement des postes par ordre croissant de leurs montants:\n",
      "                           Poste               Classe  Compte  Montant €  \\\n",
      "1                Comptes Clients      Actifs Courants     411      50000   \n",
      "2                         Stocks      Actifs Courants      31      75000   \n",
      "0                     Trésorerie      Actifs Courants     512     100000   \n",
      "4  Immobilisations Incorporelles  Actifs Non Courants      20     200000   \n",
      "3    Immobilisations Corporelles  Actifs Non Courants      21     600000   \n",
      "\n",
      "   Dette Totale €  Ratio d'Endettement  \n",
      "1          450000             0.439024  \n",
      "2          450000             0.439024  \n",
      "0          450000             0.439024  \n",
      "4          450000             0.439024  \n",
      "3          450000             0.439024  \n"
     ]
    }
   ],
   "source": [
    "# Étape 2: Calcul de la dette totale pour chaque classe\n",
    "df['Dette Totale €'] = df[df['Classe'].isin(['Passifs Courants', 'Passifs Non Courants'])]['Montant €'].sum()\n",
    "\n",
    "# Étape 3: Calcul du ratio d'endettement (dettes totales / actifs totaux)\n",
    "df['Ratio d\\'Endettement'] = df['Dette Totale €'] / df[df['Classe'].isin(['Actifs Courants', 'Actifs Non Courants'])]['Montant €'].sum()\n",
    "\n",
    "# Étape 4: Trouver l'entreprise avec le ratio d'endettement le plus élevé\n",
    "entreprise_max_ratio = df[df['Ratio d\\'Endettement'] == df['Ratio d\\'Endettement'].max()]\n",
    "print(\"Entreprise avec le ratio d'endettement le plus élevé:\")\n",
    "print(entreprise_max_ratio[['Poste', 'Ratio d\\'Endettement']])\n",
    "\n",
    "# Étape 5: Calcul de la moyenne des actifs totaux pour l'ensemble des entreprises\n",
    "moyenne_actifs_totaux = df[df['Classe'].isin(['Actifs Courants', 'Actifs Non Courants'])]['Montant €'].sum()\n",
    "print(f\"Moyenne des actifs totaux pour l'ensemble des entreprises: {moyenne_actifs_totaux:.2f} euros\")\n",
    "\n",
    "# Étape 6: Classement des postes par ordre croissant de leurs montants\n",
    "classement_actifs_totaux = df[df['Classe'].isin(['Actifs Courants', 'Actifs Non Courants'])].sort_values(by='Montant €', ascending=True)\n",
    "print(\"Classement des postes par ordre croissant de leurs montants:\")\n",
    "print(classement_actifs_totaux)\n"
   ]
  },
  {
   "cell_type": "code",
   "execution_count": null,
   "id": "5afe8748-c4bc-4ea8-ac2a-ada2db0054c3",
   "metadata": {},
   "outputs": [],
   "source": []
  }
 ],
 "metadata": {
  "kernelspec": {
   "display_name": "Python 3 (ipykernel)",
   "language": "python",
   "name": "python3"
  },
  "language_info": {
   "codemirror_mode": {
    "name": "ipython",
    "version": 3
   },
   "file_extension": ".py",
   "mimetype": "text/x-python",
   "name": "python",
   "nbconvert_exporter": "python",
   "pygments_lexer": "ipython3",
   "version": "3.10.13"
  }
 },
 "nbformat": 4,
 "nbformat_minor": 5
}
